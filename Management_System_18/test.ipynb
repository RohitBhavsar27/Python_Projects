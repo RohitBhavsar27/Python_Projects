{
 "cells": [
  {
   "cell_type": "markdown",
   "metadata": {},
   "source": [
    "### Student Management System"
   ]
  },
  {
   "cell_type": "markdown",
   "metadata": {},
   "source": [
    "- admission system for JBK\n",
    "- add data\n",
    "- update data\n",
    "- delete data\n",
    "- display data\n",
    "- filter data\n",
    "- search data"
   ]
  },
  {
   "cell_type": "code",
   "execution_count": 14,
   "metadata": {},
   "outputs": [
    {
     "name": "stdout",
     "output_type": "stream",
     "text": [
      "------------------------------------------------------------------------------------------\n",
      "                                Student Management System                                 \n",
      "------------------------------------------------------------------------------------------\n",
      "\n",
      "                                 -x-x-x--DASHBOARD--x-x-x- \n",
      "\n",
      "                                 1. Add Student Details\n",
      "                                 2. Display Student Details\n",
      "                                 3. Update Student Details\n",
      "                                 4. Delete Student Details \n",
      "                                 5. Apply Filter \n",
      "      \n",
      "{101: {'Name': 'Rohit', 'City': 'Pune', 'Percentage': 89, 'Course Name': 'Python'}, 102: {'Name': 'Nishant', 'City': 'Phaltan', 'Percentage': 80, 'Course Name': 'Software Testing'}}\n"
     ]
    }
   ],
   "source": [
    "db = {\n",
    "    101: {\n",
    "        \"Name\": \"Rohit\",\n",
    "        \"City\": \"Pune\",\n",
    "        \"Percentage\": 89,\n",
    "        \"Course Name\": \"Python\"\n",
    "    },\n",
    "}\n",
    "\n",
    "print(\"-\"*90)\n",
    "print(\"Student Management System\".center(90))\n",
    "print(\"-\"*90)\n",
    "while True:\n",
    "    print(f\"\"\"\n",
    "        {' '*28}-x-x-x--DASHBOARD--x-x-x- \\n\n",
    "        {' '*28}1. Add Student Details\n",
    "        {' '*28}2. Display Student Details\n",
    "        {' '*28}3. Update Student Details\n",
    "        {' '*28}4. Delete Student Details \n",
    "        {' '*28}5. Apply Filter \n",
    "        \"\"\")\n",
    "\n",
    "    ch = int(input(\"Enter Your Choice: \"))\n",
    "    if ch == 1:\n",
    "        reg_no = eval(input(\"Enter Registration Number: \"))\n",
    "        name = input(\"Enter Student Name: \")\n",
    "        city = input(\"Enter Student's City: \")\n",
    "        percentage = eval(input(\"Enter Student's Percentage: \"))\n",
    "        course = input(\"Enter name of enrolled Course: \")\n",
    "        \n",
    "        db[reg_no] = {\"Name\":name, \"City\": city, \"Percentage\": percentage, \"Course Name\": course}\n",
    "        print(\"Student details added successfully.\")\n",
    "    elif ch == 2:\n",
    "        pass\n",
    "    elif ch == 3:\n",
    "        pass\n",
    "    elif ch == 4:\n",
    "        pass\n",
    "    elif ch == 5:\n",
    "        pass\n",
    "    else:\n",
    "        pass\n",
    "\n",
    "    print(db)\n"
   ]
  },
  {
   "cell_type": "code",
   "execution_count": null,
   "metadata": {},
   "outputs": [],
   "source": []
  }
 ],
 "metadata": {
  "kernelspec": {
   "display_name": "Python 3",
   "language": "python",
   "name": "python3"
  },
  "language_info": {
   "codemirror_mode": {
    "name": "ipython",
    "version": 3
   },
   "file_extension": ".py",
   "mimetype": "text/x-python",
   "name": "python",
   "nbconvert_exporter": "python",
   "pygments_lexer": "ipython3",
   "version": "3.12.5"
  }
 },
 "nbformat": 4,
 "nbformat_minor": 2
}
